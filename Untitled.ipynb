{
 "cells": [
  {
   "cell_type": "code",
   "execution_count": 1,
   "id": "8f5789a2-70d2-41ed-8b1e-a81bbc5c111d",
   "metadata": {},
   "outputs": [],
   "source": [
    "import warnings\n",
    "import pandas as pd\n",
    "from pathlib import Path"
   ]
  },
  {
   "cell_type": "code",
   "execution_count": null,
   "id": "e071ebc3-fbc1-4bfd-b812-6c5c7fa9c92c",
   "metadata": {},
   "outputs": [],
   "source": [
    "# File Path\n",
    "incident_data = Path(\"Outputs_Police/IncidentsTimePlace.csv\")\n",
    "\n",
    "# Read Hospital General, Score, and Location Data File and store into Pandas DataFrames\n",
    "school_metrics_data = pd.read_csv(incident_data)"
   ]
  }
 ],
 "metadata": {
  "kernelspec": {
   "display_name": "Python 3 (ipykernel)",
   "language": "python",
   "name": "python3"
  },
  "language_info": {
   "codemirror_mode": {
    "name": "ipython",
    "version": 3
   },
   "file_extension": ".py",
   "mimetype": "text/x-python",
   "name": "python",
   "nbconvert_exporter": "python",
   "pygments_lexer": "ipython3",
   "version": "3.11.7"
  }
 },
 "nbformat": 4,
 "nbformat_minor": 5
}
